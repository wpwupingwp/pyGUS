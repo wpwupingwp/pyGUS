{
 "cells": [
  {
   "cell_type": "code",
   "execution_count": 1,
   "metadata": {},
   "outputs": [
    {
     "name": "stdout",
     "output_type": "stream",
     "text": [
      "(405, 720)\n"
     ]
    }
   ],
   "source": [
    "import cv2\n",
    "import numpy as np\n",
    "a = cv2.imread('/Users/wuping/git/pyGUS/example/example.png')\n",
    "\n",
    "cv2.imshow('raw', a)\n",
    "b, g, r = cv2.split(a)\n",
    "neg_ref = (131, 183, 205)\n",
    "# b, g, r\n",
    "pos_ref = (0, 82, 90)\n",
    "y = r + g\n",
    "#cv2.imshow('r', 255-r)\n",
    "#cv2.imshow('g', 255-g)\n",
    "#cv2.imshow('-yellow', 255-b-(255-y))\n",
    "new = a.copy()\n",
    "# y2 = np.abs(r-g)\n",
    "y2 = np.minimum(r, g)\n",
    "b2, g2, r2 = cv2.split(new)\n",
    "bb2 = b2.copy()\n",
    "bb2 = bb2.astype('int')\n",
    "bb2 -= y2\n",
    "bb2[bb2<0] = 255\n",
    "bb2 = bb2.astype('uint8')\n",
    "bbb2 = b2 - y2\n",
    "# cv2.imshow('r', 255-r2)\n",
    "# cv2.imshow('g', 255-g2)\n",
    "cv2.imshow('b', 255-b2)\n",
    "cv2.imshow('bb2', 255-bb2)\n",
    "cv2.imshow('bbb2', 255-bbb2)\n",
    "new = cv2.merge([b2, g2, r2])\n",
    "cv2.imshow('edit', new)\n",
    "print(b.shape)\n",
    "cv2.waitKey()\n",
    "cv2.destroyAllWindows()"
   ]
  }
 ],
 "metadata": {
  "kernelspec": {
   "display_name": "Python 3.10.5 64-bit",
   "language": "python",
   "name": "python3"
  },
  "language_info": {
   "codemirror_mode": {
    "name": "ipython",
    "version": 3
   },
   "file_extension": ".py",
   "mimetype": "text/x-python",
   "name": "python",
   "nbconvert_exporter": "python",
   "pygments_lexer": "ipython3",
   "version": "3.10.5"
  },
  "orig_nbformat": 4,
  "vscode": {
   "interpreter": {
    "hash": "aee8b7b246df8f9039afb4144a1f6fd8d2ca17a180786b69acc140d282b71a49"
   }
  }
 },
 "nbformat": 4,
 "nbformat_minor": 2
}
