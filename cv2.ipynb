{
 "cells": [
  {
   "cell_type": "code",
   "execution_count": 2,
   "metadata": {
    "pycharm": {
     "name": "#%%\n"
    }
   },
   "outputs": [],
   "source": [
    "import cv2 as cv\n",
    "import numpy as np\n",
    "from pathlib import Path"
   ]
  },
  {
   "cell_type": "code",
   "execution_count": null,
   "metadata": {
    "pycharm": {
     "name": "#%%\n"
    }
   },
   "outputs": [],
   "source": [
    "black = np.zeros((512, 512, 3), np.uint8)\n",
    "cv.line(black, (0, 0), (511, 511), (0, 100, 255), 3)\n",
    "cv.circle(black, (50, 50), 50, (50, 200, 50), 2)\n",
    "# negative for fill\n",
    "cv.circle(black, (150, 50), 50, (50, 200, 50), -1)\n",
    "# (-1, 1, 2) => (4, 1, 2)\n",
    "polygon = np.array([[10, 10], [200, 30], [300, 30], [400, 10]], np.int32).reshape((-1, 1, 2))\n",
    "# if polygon instead of [polygon], only draw points\n",
    "cv.polylines(black, [polygon], True, (255, 255, 255), 2)\n",
    "cv.putText(black, 'OpenCV', (10, 500), cv.FONT_HERSHEY_SIMPLEX, 0.5, (255, 255, 255), 1)\n",
    "cv.imshow('link', black)\n",
    "key = cv.waitKey(0)\n",
    "cv.destroyWindow('link')"
   ]
  },
  {
   "cell_type": "code",
   "execution_count": null,
   "metadata": {
    "collapsed": false,
    "pycharm": {
     "name": "#%%\n"
    }
   },
   "outputs": [
    {
     "name": "stdout",
     "output_type": "stream",
     "text": [
      "/Users/wuping/git/pyGUS\n",
      "(405, 720, 3)\n",
      "[255 255 255]\n"
     ]
    }
   ],
   "source": [
    "import cv2 as cv\n",
    "import numpy as np\n",
    "from pathlib import Path\n",
    "\n",
    "\n",
    "def show():\n",
    "    cv.imshow('Raw', img)\n",
    "    cv.waitKey(0)\n",
    "    cv.destroyAllWindows()\n",
    "print(Path().cwd())\n",
    "img_file = Path('example/example.png').absolute()\n",
    "img = cv.imread(str(img_file))\n",
    "print(img.shape)\n",
    "print(img[0, 0])\n",
    "# set value of first (0) channel\n",
    "img.itemset((10, 10, 0), 50)\n",
    "# set area\n",
    "img[50:60, 50:60] = [128, 128, 128]\n",
    "b, g, r = cv.split(img)\n",
    "r2 = img[:, :, 2]\n",
    "cv.imshow('Raw', img)\n",
    "cv.imshow('b', b)\n",
    "cv.imshow('g', g)\n",
    "cv.imshow('r', r)\n",
    "cv.waitKey(0)\n",
    "cv.destroyAllWindows()\n",
    "# show()"
   ]
  },
  {
   "cell_type": "code",
   "execution_count": null,
   "metadata": {
    "collapsed": false,
    "pycharm": {
     "name": "#%%\n"
    }
   },
   "outputs": [],
   "source": [
    "import cv2 as cv\n",
    "import numpy as np\n",
    "\n",
    "\n",
    "flags = [i for i in dir(cv) if i.startswith('COLOR_')]\n",
    "# print(flags)\n",
    "img = cv.imread('example/example.png')\n",
    "hsv = cv.cvtColor(img, cv.COLOR_BGR2HSV)\n",
    "# normal hsv [0,360], [0,100], [0,100]\n",
    "# opencv hsv [0,180), [0,255], [0,255]\n",
    "#https://blog.csdn.net/yu0046/article/details/112385007?spm=1001.2101.3001.6650.1&utm_medium=distribute.pc_relevant.none-task-blog-2%7Edefault%7ECTRLIST%7Edefault-1-112385007-blog-89305438.pc_relevant_default&depth_1-utm_source=distribute.pc_relevant.none-task-blog-2%7Edefault%7ECTRLIST%7Edefault-1-112385007-blog-89305438.pc_relevant_default&utm_relevant_index=2\n",
    "# https://docs.opencv.org/4.5.5/df/d9d/tutorial_py_colorspaces.html\n",
    "blue_lower = np.array([110, 50, 50])\n",
    "blue_higher = np.array([130, 255, 255])\n",
    "h, s, v = cv.split(hsv)\n",
    "cv.imshow('Raw', img)\n",
    "cv.imshow('h', h)\n",
    "cv.imshow('s', s)\n",
    "cv.imshow('v', v)\n",
    "# blue is green in tabaco (blue+yellow=green)\n",
    "mask = cv.inRange(hsv, blue_lower, blue_higher)\n",
    "res = cv.bitwise_and(img, img, mask=mask)\n",
    "cv.imshow('mask', mask)\n",
    "cv.imshow('res', res)\n",
    "cv.waitKey()"
   ]
  },
  {
   "cell_type": "code",
   "execution_count": null,
   "metadata": {
    "collapsed": false,
    "pycharm": {
     "name": "#%%\n"
    }
   },
   "outputs": [],
   "source": []
  },
  {
   "cell_type": "code",
   "execution_count": null,
   "outputs": [],
   "source": [
    "# color recalibrate\n",
    "# https://github.com/18150167970/image_process_tool/blob/master/lighting_enhancement.py\n",
    "import cv2\n",
    "import numpy as np\n",
    "from matplotlib import pyplot as plt\n",
    "\n",
    "example = 'example/example.png'\n",
    "# example = 'example/0-1.tif'\n",
    "img = cv2.imread(example)\n",
    "print(img.shape)\n",
    "black = cv2.inRange(img, (0, 0, 0), (0, 0, 0))\n",
    "res = cv2.bitwise_and(img, img, mask=black)\n",
    "img[res]=[255,255,255]\n",
    "\n",
    "def auto_Canny(image, sigma=0.33):\n",
    "    # compute the median of the single channel pixel intensities\n",
    "    v = np.median(image)\n",
    "\n",
    "    # apply automatic Canny edge detection using the computed median\n",
    "    lower = int(max(0, (1.0 - sigma) * v))\n",
    "    upper = int(min(255, (1.0 + sigma) * v))\n",
    "    edge = cv2.Canny(image, lower, upper)\n",
    "    return edge\n",
    "# opencv use BGR\n",
    "b, g, r = cv2.split(img)\n",
    "cv2.imshow('raw', img)\n",
    "for title, value in zip(['b', 'g', 'r'], [b, g, r]):\n",
    "    cv2.imshow(title, value)\n",
    "edge = auto_Canny(img)\n",
    "dilate = cv2.dilate(edge, None)\n",
    "erode = cv2.erode(dilate, None)\n",
    "cv2.imshow('edge', edge)\n",
    "cv2.imshow('dilate', dilate)\n",
    "cv2.imshow('erode', erode)\n",
    "# cv2.RETR_EXTERNAL for biggest?\n",
    "# todo: use polygon instead of retangle\n",
    "contours, hierarchy = cv2.findContours(erode, cv2.RETR_TREE, cv2.CHAIN_APPROX_SIMPLE)\n",
    "# contours, hierarchy = cv2.findContours(erode, cv2.RETR_EXTERNAL, cv2.CHAIN_APPROX_SIMPLE)\n",
    "# cv2.drawContours(img, contours, -1, (0, 255, 0), 2)\n",
    "img2 = img.copy()\n",
    "img3 = img.copy()\n",
    "img4 = img.copy()\n",
    "area_threshold = img.shape[0] * img.shape[1] * 0.0001\n",
    "for cnt in contours:\n",
    "    x, y, w, h = cv2.boundingRect(cnt)\n",
    "    center, radius = cv2.minEnclosingCircle(cnt)\n",
    "    area = cv2.contourArea(cnt)\n",
    "    if area < area_threshold:\n",
    "        # b,g,r\n",
    "        cv2.rectangle(img2, (x,y), (x+w, y+h), (0,0,255), 1)\n",
    "    else:\n",
    "        cv2.rectangle(img3, (x,y), (x+w, y+h), (255,0,0), 1)\n",
    "        cv2.circle(img4, (int(center[0]), int(center[1])), int(radius), (0, 255, 0), 1)\n",
    "cv2.imshow('small area (<100)', img2)\n",
    "cv2.imshow('rectangle', img3)\n",
    "cv2.imshow('circle', img4)\n",
    "cv2.waitKey(0)\n",
    "cv2.destroyAllWindows()"
   ],
   "metadata": {
    "collapsed": false,
    "pycharm": {
     "name": "#%%\n"
    }
   }
  },
  {
   "cell_type": "code",
   "execution_count": null,
   "outputs": [],
   "source": [
    "# color recalibrate\n",
    "# https://github.com/18150167970/image_process_tool/blob/master/lighting_enhancement.py\n",
    "import cv2\n",
    "import numpy as np\n",
    "from matplotlib import pyplot as plt\n",
    "\n",
    "# example = 'example/example.png'\n",
    "example = 'example/0-1.tif'\n",
    "# example = 'example/75-2.tif'\n",
    "img = cv2.imread(example)\n",
    "print(img.shape)\n",
    "\n",
    "def auto_Canny(image, sigma=0.23):\n",
    "    # compute the median of the single channel pixel intensities\n",
    "    v = np.median(image)\n",
    "    # apply automatic Canny edge detection using the computed median\n",
    "    lower = int(max(0, (1.0 - sigma) * v))\n",
    "    upper = int(min(255, (1.0 + sigma) * v))\n",
    "    edge = cv2.Canny(image, lower, upper)\n",
    "    return edge\n",
    "\n",
    "\n",
    "def get_edge(image):\n",
    "    edge = auto_Canny(image)\n",
    "    blur = cv2.GaussianBlur(edge, (3, 3), 0)\n",
    "    dilate = cv2.dilate(blur, None)\n",
    "    erode_edge = cv2.erode(dilate, None)\n",
    "    # cv2.imshow('edge', edge)\n",
    "    # cv2.imshow('dilate', dilate)\n",
    "    # cv2.imshow('blur', blur)\n",
    "    return erode_edge\n",
    "# opencv use BGR\n",
    "b, g, r = cv2.split(img)\n",
    "for title, value in zip(['b', 'g', 'r'], [b, g, r]):\n",
    "    continue\n",
    "    cv2.imshow(title, value)\n",
    "b = 255 - b\n",
    "# reverse to get better edge\n",
    "#erode = get_edge(img)\n",
    "erode = get_edge(255-img)\n",
    "contours, hierarchy = cv2.findContours(erode, cv2.RETR_CCOMP, cv2.CHAIN_APPROX_NONE)\n",
    "# contours, hierarchy = cv2.findContours(erode, cv2.RETR_TREE, cv2.CHAIN_APPROX_NONE)\n",
    "# sorted_contours = sorted(contours, key=cv2.contourArea, reverse=True)\n",
    "max_contour = contours[0]\n",
    "arc_epsilon = cv2.arcLength(max_contour, True) * 0.001\n",
    "area_threshold = img.shape[0] * img.shape[1] * 0.001\n",
    "img2 = img.copy()\n",
    "img3 = img.copy()\n",
    "img4 = img.copy()\n",
    "for cnt in contours:\n",
    "    rect = cv2.minAreaRect(cnt)\n",
    "    area = cv2.contourArea(cnt)\n",
    "    rect_2 = np.int0(cv2.boxPoints(rect))\n",
    "    approx = cv2.approxPolyDP(cnt, arc_epsilon, True)\n",
    "    if area < area_threshold:\n",
    "        # b,g,r\n",
    "        cv2.drawContours(img2, [rect_2], 0, (0, 0, 255), 1)\n",
    "        cv2.polylines(img3, [approx], True, (0, 0, 255), 1)\n",
    "    else:\n",
    "        cv2.drawContours(img2, [rect_2], 0, (255, 255, 0), 1)\n",
    "        cv2.polylines(img3, [approx], True, (255, 255, 0), 1)\n",
    "        # cv2.fillPoly(img5, [approx], (255, 255, 0))\n",
    "        # cv2.drawContours(img4, approx, -1, (255, 255, 0),)\n",
    "# todo: 第一层级只取最大的两个（假设只摆放两个物体）\n",
    "# 根据内外关系排除空洞\n",
    "# 参照选择EXTERNAL\n",
    "cv2.fillPoly(img4, contours, (255, 255, 0))\n",
    "cv2.imshow('raw', img)\n",
    "cv2.imshow('erode', erode)\n",
    "cv2.imshow('rectangle (red for small area)', img2)\n",
    "cv2.imshow('polyline', img3)\n",
    "cv2.imshow('fill', img4)\n",
    "cv2.waitKey(0)\n",
    "cv2.destroyAllWindows()"
   ],
   "metadata": {
    "collapsed": false,
    "pycharm": {
     "name": "#%%\n"
    }
   }
  },
  {
   "cell_type": "code",
   "execution_count": null,
   "metadata": {
    "collapsed": false,
    "pycharm": {
     "name": "#%%\n"
    }
   },
   "outputs": [],
   "source": []
  },
  {
   "cell_type": "code",
   "execution_count": null,
   "metadata": {
    "collapsed": false,
    "pycharm": {
     "name": "#%%\n"
    }
   },
   "outputs": [],
   "source": []
  }
 ],
 "metadata": {
  "interpreter": {
   "hash": "b0fa6594d8f4cbf19f97940f81e996739fb7646882a419484c72d19e05852a7e"
  },
  "kernelspec": {
   "display_name": "Python 3 (ipykernel)",
   "language": "python",
   "name": "python3"
  },
  "language_info": {
   "codemirror_mode": {
    "name": "ipython",
    "version": 3
   },
   "file_extension": ".py",
   "mimetype": "text/x-python",
   "name": "python",
   "nbconvert_exporter": "python",
   "pygments_lexer": "ipython3",
   "version": "3.10.4"
  }
 },
 "nbformat": 4,
 "nbformat_minor": 2
}