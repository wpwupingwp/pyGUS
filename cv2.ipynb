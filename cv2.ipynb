{
 "cells": [
  {
   "cell_type": "code",
   "execution_count": 2,
   "metadata": {
    "pycharm": {
     "name": "#%%\n"
    }
   },
   "outputs": [],
   "source": [
    "import cv2 as cv\n",
    "import numpy as np\n",
    "from pathlib import Path"
   ]
  },
  {
   "cell_type": "code",
   "execution_count": null,
   "metadata": {
    "pycharm": {
     "name": "#%%\n"
    }
   },
   "outputs": [],
   "source": [
    "black = np.zeros((512, 512, 3), np.uint8)\n",
    "cv.line(black, (0, 0), (511, 511), (0, 100, 255), 3)\n",
    "cv.circle(black, (50, 50), 50, (50, 200, 50), 2)\n",
    "# negative for fill\n",
    "cv.circle(black, (150, 50), 50, (50, 200, 50), -1)\n",
    "# (-1, 1, 2) => (4, 1, 2)\n",
    "polygon = np.array([[10, 10], [200, 30], [300, 30], [400, 10]], np.int32).reshape((-1, 1, 2))\n",
    "# if polygon instead of [polygon], only draw points\n",
    "cv.polylines(black, [polygon], True, (255, 255, 255), 2)\n",
    "cv.putText(black, 'OpenCV', (10, 500), cv.FONT_HERSHEY_SIMPLEX, 0.5, (255, 255, 255), 1)\n",
    "cv.imshow('link', black)\n",
    "key = cv.waitKey(0)\n",
    "cv.destroyWindow('link')"
   ]
  },
  {
   "cell_type": "code",
   "execution_count": null,
   "outputs": [
    {
     "name": "stdout",
     "output_type": "stream",
     "text": [
      "/Users/wuping/git/pyGUS\n",
      "(405, 720, 3)\n",
      "[255 255 255]\n"
     ]
    }
   ],
   "source": [
    "import cv2 as cv\n",
    "import numpy as np\n",
    "from pathlib import Path\n",
    "\n",
    "\n",
    "def show():\n",
    "    cv.imshow('Raw', img)\n",
    "    cv.waitKey(0)\n",
    "    cv.destroyAllWindows()\n",
    "print(Path().cwd())\n",
    "img_file = Path('example/example.png').absolute()\n",
    "img = cv.imread(str(img_file))\n",
    "print(img.shape)\n",
    "print(img[0, 0])\n",
    "# set value of first (0) channel\n",
    "img.itemset((10, 10, 0), 50)\n",
    "# set area\n",
    "img[50:60, 50:60] = [128, 128, 128]\n",
    "b, g, r = cv.split(img)\n",
    "r2 = img[:, :, 2]\n",
    "cv.imshow('Raw', img)\n",
    "cv.imshow('b', b)\n",
    "cv.imshow('g', g)\n",
    "cv.imshow('r', r)\n",
    "cv.waitKey(0)\n",
    "cv.destroyAllWindows()\n",
    "# show()"
   ],
   "metadata": {
    "collapsed": false,
    "pycharm": {
     "name": "#%%\n"
    }
   }
  },
  {
   "cell_type": "code",
   "execution_count": null,
   "outputs": [],
   "source": [
    "import cv2 as cv\n",
    "import numpy as np\n",
    "\n",
    "\n",
    "flags = [i for i in dir(cv) if i.startswith('COLOR_')]\n",
    "# print(flags)\n",
    "img = cv.imread('example/example.png')\n",
    "hsv = cv.cvtColor(img, cv.COLOR_BGR2HSV)\n",
    "# normal hsv [0,360], [0,100], [0,100]\n",
    "# opencv hsv [0,180), [0,255], [0,255]\n",
    "#https://blog.csdn.net/yu0046/article/details/112385007?spm=1001.2101.3001.6650.1&utm_medium=distribute.pc_relevant.none-task-blog-2%7Edefault%7ECTRLIST%7Edefault-1-112385007-blog-89305438.pc_relevant_default&depth_1-utm_source=distribute.pc_relevant.none-task-blog-2%7Edefault%7ECTRLIST%7Edefault-1-112385007-blog-89305438.pc_relevant_default&utm_relevant_index=2\n",
    "# https://docs.opencv.org/4.5.5/df/d9d/tutorial_py_colorspaces.html\n",
    "blue_lower = np.array([110, 50, 50])\n",
    "blue_higher = np.array([130, 255, 255])\n",
    "h, s, v = cv.split(hsv)\n",
    "cv.imshow('Raw', img)\n",
    "cv.imshow('h', h)\n",
    "cv.imshow('s', s)\n",
    "cv.imshow('v', v)\n",
    "# blue is green in tabaco (blue+yellow=green)\n",
    "mask = cv.inRange(hsv, blue_lower, blue_higher)\n",
    "res = cv.bitwise_and(img, img, mask=mask)\n",
    "cv.imshow('mask', mask)\n",
    "cv.imshow('res', res)\n",
    "cv.waitKey()"
   ],
   "metadata": {
    "collapsed": false,
    "pycharm": {
     "name": "#%%\n"
    }
   }
  },
  {
   "cell_type": "code",
   "execution_count": null,
   "outputs": [],
   "source": [],
   "metadata": {
    "collapsed": false,
    "pycharm": {
     "name": "#%%\n"
    }
   }
  },
  {
   "cell_type": "code",
   "execution_count": null,
   "outputs": [],
   "source": [
    "# color recalibrate\n",
    "# https://github.com/18150167970/image_process_tool/blob/master/lighting_enhancement.py\n",
    "import cv2 as cv\n",
    "import numpy as np\n",
    "from matplotlib import pyplot as plt\n",
    "\n",
    "example = 'example/example.png'\n",
    "img = cv.imread(example)\n",
    "# opencv use BGR\n",
    "b, g, r = cv.split(img)\n",
    "cv.imshow('raw', img)\n",
    "for title, value in zip(['b', 'g', 'r'], [b, g, r]):\n",
    "    cv.imshow(title, value)\n",
    "cv.waitKey(0)\n",
    "cv.destroyAllWindows()"
   ],
   "metadata": {
    "collapsed": false,
    "pycharm": {
     "name": "#%%\n",
     "is_executing": true
    }
   }
  },
  {
   "cell_type": "code",
   "execution_count": null,
   "outputs": [],
   "source": [],
   "metadata": {
    "collapsed": false,
    "pycharm": {
     "name": "#%%\n"
    }
   }
  }
 ],
 "metadata": {
  "interpreter": {
   "hash": "b0fa6594d8f4cbf19f97940f81e996739fb7646882a419484c72d19e05852a7e"
  },
  "kernelspec": {
   "display_name": "Python 3 (ipykernel)",
   "language": "python",
   "name": "python3"
  },
  "language_info": {
   "codemirror_mode": {
    "name": "ipython",
    "version": 3
   },
   "file_extension": ".py",
   "mimetype": "text/x-python",
   "name": "python",
   "nbconvert_exporter": "python",
   "pygments_lexer": "ipython3",
   "version": "3.10.4"
  }
 },
 "nbformat": 4,
 "nbformat_minor": 2
}